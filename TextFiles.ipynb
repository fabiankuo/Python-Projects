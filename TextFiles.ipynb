{
 "cells": [
  {
   "cell_type": "code",
   "execution_count": 1,
   "metadata": {},
   "outputs": [
    {
     "data": {
      "text/plain": [
       "u'C:\\\\Users\\\\fk\\\\Python Projects'"
      ]
     },
     "execution_count": 1,
     "metadata": {},
     "output_type": "execute_result"
    }
   ],
   "source": [
    "pwd"
   ]
  },
  {
   "cell_type": "code",
   "execution_count": 2,
   "metadata": {
    "collapsed": true
   },
   "outputs": [],
   "source": [
    "file = open('Test.txt')"
   ]
  },
  {
   "cell_type": "code",
   "execution_count": 3,
   "metadata": {},
   "outputs": [
    {
     "data": {
      "text/plain": [
       "\"Today, a gunman opened fire during morning services at a church in Southerland Spring, Texas,\\nkilling 26 people, 7% of the town's population\\n23 inside church\\n2 outside the church\\n1 in the hospital\\n20 wounded\\n\\nThe police are unsure whether the gunman died from a self inflicted wound or from a gun wound from one of the neighbors that engaged in gunfire\\nthe pastor was not there, their 14yr old daughter died\\n\\nthe shooter:\\nmale, 26, Devin Patrick Kelly,\\nAir Force\\nconnection with church unclear\\n30miles away, New Bronco\\nmilitary style rifle\\ncolt ar-15 rifle\\ndischarged in 2012 after court marshalled\\non the charges of assaulting his wife and child\\n12months confinements, bad conduct discharge in 2014\\n\\nA lot of people are armed in Texas,\\nthe armed neighbor may have killed the shooter which may spark debates amongst supporters and protestors\\n\\nwhere am i reaching you now?\\n\\ntop stories Jeremy Corpan why one of his mps was promoted despite sexual assault charges\\nkevin spacey sexual assault charges\\n\\ntwitter appologizes after Donald Trump's account was taken down\\n\\n\\n\\n\""
      ]
     },
     "execution_count": 3,
     "metadata": {},
     "output_type": "execute_result"
    }
   ],
   "source": [
    "file.read()"
   ]
  },
  {
   "cell_type": "code",
   "execution_count": 4,
   "metadata": {},
   "outputs": [
    {
     "data": {
      "text/plain": [
       "''"
      ]
     },
     "execution_count": 4,
     "metadata": {},
     "output_type": "execute_result"
    }
   ],
   "source": [
    "file.read()"
   ]
  },
  {
   "cell_type": "code",
   "execution_count": 5,
   "metadata": {
    "collapsed": true
   },
   "outputs": [],
   "source": [
    "#the file was read once, and the 'cursor' is at the end of the file, therefore nothing is read during the second time\n",
    "#use the seek function to set the index"
   ]
  },
  {
   "cell_type": "code",
   "execution_count": 6,
   "metadata": {
    "collapsed": true
   },
   "outputs": [],
   "source": [
    "file.seek(10)"
   ]
  },
  {
   "cell_type": "code",
   "execution_count": 7,
   "metadata": {},
   "outputs": [
    {
     "data": {
      "text/plain": [
       "\"unman opened fire during morning services at a church in Southerland Spring, Texas,\\nkilling 26 people, 7% of the town's population\\n23 inside church\\n2 outside the church\\n1 in the hospital\\n20 wounded\\n\\nThe police are unsure whether the gunman died from a self inflicted wound or from a gun wound from one of the neighbors that engaged in gunfire\\nthe pastor was not there, their 14yr old daughter died\\n\\nthe shooter:\\nmale, 26, Devin Patrick Kelly,\\nAir Force\\nconnection with church unclear\\n30miles away, New Bronco\\nmilitary style rifle\\ncolt ar-15 rifle\\ndischarged in 2012 after court marshalled\\non the charges of assaulting his wife and child\\n12months confinements, bad conduct discharge in 2014\\n\\nA lot of people are armed in Texas,\\nthe armed neighbor may have killed the shooter which may spark debates amongst supporters and protestors\\n\\nwhere am i reaching you now?\\n\\ntop stories Jeremy Corpan why one of his mps was promoted despite sexual assault charges\\nkevin spacey sexual assault charges\\n\\ntwitter appologizes after Donald Trump's account was taken down\\n\\n\\n\\n\""
      ]
     },
     "execution_count": 7,
     "metadata": {},
     "output_type": "execute_result"
    }
   ],
   "source": [
    "file.read()"
   ]
  },
  {
   "cell_type": "code",
   "execution_count": 8,
   "metadata": {
    "collapsed": true
   },
   "outputs": [],
   "source": [
    "file.seek(0)"
   ]
  },
  {
   "cell_type": "code",
   "execution_count": 10,
   "metadata": {},
   "outputs": [
    {
     "name": "stdout",
     "output_type": "stream",
     "text": [
      "Writing new.txt\n"
     ]
    }
   ],
   "source": [
    "%%writefile new.txt\n",
    "First line\n",
    "Second line"
   ]
  },
  {
   "cell_type": "code",
   "execution_count": 11,
   "metadata": {},
   "outputs": [
    {
     "name": "stdout",
     "output_type": "stream",
     "text": [
      "First line\n",
      "\n",
      "Second line\n"
     ]
    }
   ],
   "source": [
    "for line in open('new.txt'):\n",
    "    print line"
   ]
  },
  {
   "cell_type": "code",
   "execution_count": null,
   "metadata": {
    "collapsed": true
   },
   "outputs": [],
   "source": []
  }
 ],
 "metadata": {
  "kernelspec": {
   "display_name": "Python 2",
   "language": "python",
   "name": "python2"
  },
  "language_info": {
   "codemirror_mode": {
    "name": "ipython",
    "version": 2
   },
   "file_extension": ".py",
   "mimetype": "text/x-python",
   "name": "python",
   "nbconvert_exporter": "python",
   "pygments_lexer": "ipython2",
   "version": "2.7.14"
  }
 },
 "nbformat": 4,
 "nbformat_minor": 2
}
