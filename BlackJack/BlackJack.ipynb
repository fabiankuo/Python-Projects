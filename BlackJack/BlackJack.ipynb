{
 "cells": [
  {
   "cell_type": "code",
   "execution_count": null,
   "metadata": {
    "collapsed": true
   },
   "outputs": [],
   "source": [
    "#functions needed for building a black jack game\n",
    "#set up game:\n",
    "#deal card\n",
    "#check if gone over limit\n",
    "#reset game\n",
    "#point counting\n",
    "#winner declaring\n",
    "#score keeping\n",
    "#declare a class for cards\n",
    "#print results(doesn't have to be picture of a card, numbers should suffice)\n",
    "#classes: Player, CardDeck, Dealer, Card"
   ]
  },
  {
   "cell_type": "code",
   "execution_count": 1,
   "metadata": {
    "collapsed": true
   },
   "outputs": [],
   "source": [
    "#import random for dealing cards\n",
    "import random"
   ]
  },
  {
   "cell_type": "code",
   "execution_count": 2,
   "metadata": {
    "collapsed": true
   },
   "outputs": [],
   "source": [
    "class Player(object):\n",
    "    \n",
    "    def __init__(self,hand,name = 'player1',bank=100, bet = 0, win = False):\n",
    "        self.name = name\n",
    "        self.bank = bank\n",
    "        self.hand = hand\n",
    "        self.bet = bet\n",
    "        self.win = win\n",
    "    \n",
    "    def setName(self, playerName):\n",
    "        self.name = playerName\n",
    "    \n",
    "    def addCard(self, card):\n",
    "        self.hand['cards'].append(card)\n",
    "        if card.number == 1:\n",
    "            self.hand['containsAce'] = True\n",
    "        self.addPoints(card)\n",
    "    \n",
    "    def addPoints(self, card):\n",
    "        if card.number > 10:\n",
    "            self.hand['points']['normal']+=10\n",
    "            self.hand['points']['ace']+=10\n",
    "        elif card.number == 1:\n",
    "            self.hand['points']['normal']+=card.number\n",
    "            self.hand['points']['ace']+=11\n",
    "        else:\n",
    "            self.hand['points']['normal']+=card.number\n",
    "            self.hand['points']['ace']+=card.number            \n",
    "       \n",
    "        if (self.hand['points']['ace']>21) & (self.hand['points']['normal']>21):\n",
    "            self.hand['busted'] = True\n",
    "        elif self.hand['points']['normal']> 21:\n",
    "            self.hand['busted'] = True\n",
    "        \n",
    "    def placeBet(self):\n",
    "        while True:\n",
    "            try:\n",
    "                bet = int(raw_input('Your bank:%d How much would you like to bet?'%self.bank))\n",
    "            except:\n",
    "                print 'Please Enter a valid bet.'\n",
    "            else:\n",
    "                if bet > self.bank:\n",
    "                    print \"You don't have enough money. Please enter valid bet.\"\n",
    "                elif bet <1:\n",
    "                    print \"You cannot place a bet that is below 1\"\n",
    "                else:\n",
    "                    self.bank -= bet\n",
    "                    self.bet = bet\n",
    "                    break\n",
    "                    \n",
    "    def clearBet(self):\n",
    "        self.bet = 0\n",
    "    \n",
    "    def resetHand(self):\n",
    "        del self.hand['cards'][:]\n",
    "        self.hand['containsAce'] = False\n",
    "        self.hand['busted'] = False\n",
    "        self.hand['points']['ace'] = 0\n",
    "        self.hand['points']['normal']=0\n",
    "        self.clearBet()\n",
    "        self.win = False\n",
    "        \n",
    "    def collectWins(self, winnings):\n",
    "        self.bank += winnings\n",
    "        \n",
    "    def action(self, action):\n",
    "        return action == True\n",
    "    def checkHand(self):\n",
    "        if len(self.hand['cards'])>0:\n",
    "            for card in self.hand['cards']:\n",
    "                print str(card.number) + ' '+ card.suit"
   ]
  },
  {
   "cell_type": "code",
   "execution_count": 3,
   "metadata": {
    "collapsed": true
   },
   "outputs": [],
   "source": [
    "class Card(object):\n",
    "    def __init__ (self, hierarchy,suit, number):\n",
    "        self.hierarchy = hierarchy\n",
    "        self.suit = suit\n",
    "        self.number = number\n",
    "        "
   ]
  },
  {
   "cell_type": "code",
   "execution_count": 4,
   "metadata": {
    "collapsed": true
   },
   "outputs": [],
   "source": [
    "class Deck(object):\n",
    "    def __init__ (self, deck=[], removedDeck=[]):\n",
    "        self.deck = deck\n",
    "        self.removedDeck = removedDeck\n",
    "        \n",
    "    def initDeck(self):\n",
    "        del self.deck[:]\n",
    "        del self.removedDeck[:]\n",
    "        \n",
    "        for x in xrange(1,5):\n",
    "            for num in xrange(1,14):\n",
    "                if x == 1:\n",
    "                    card = Card(x,'Cloves',num)                    \n",
    "                elif x == 2:\n",
    "                    card = Card(x,'Diamonds',num)\n",
    "                elif x == 3:\n",
    "                    card = Card(x,'Hearts', num)\n",
    "                elif x == 4:\n",
    "                    card = Card(x,'Spades', num)\n",
    "                self.deck.append(card)\n",
    "                \n",
    "    def shuffleDeck(self):\n",
    "        random.shuffle(self.deck)\n",
    "    \n",
    "    def removeCard(self):\n",
    "        self.checkForReShuffling()\n",
    "        return self.deck.pop(random.randint(0,(len(self.deck)-1)))\n",
    "    \n",
    "    def recordDiscardedCard(self, player):\n",
    "        for card in player.hand['cards']:\n",
    "            self.removedDeck.append(card)\n",
    "        player.resetHand()\n",
    "        \n",
    "    def __len__(self):\n",
    "        return len(self.deck)\n",
    "    \n",
    "    def checkForReShuffling(self):\n",
    "        if len(self.deck)<=21:\n",
    "            print 'Current deck contains less than 20 cards, \\nremoved cards will be added back to deck and deck will be reshuffled'\n",
    "            for card in self.removedDeck:\n",
    "                self.deck.append(self.removedDeck.pop())\n",
    "                self.shuffleDeck()"
   ]
  },
  {
   "cell_type": "code",
   "execution_count": 5,
   "metadata": {
    "collapsed": true
   },
   "outputs": [],
   "source": [
    "class Dealer(Player):\n",
    "    def __init__(self,hand):\n",
    "        Player.__init__(self,hand, 'Dealer')\n",
    "    def dealCard(self, deck):\n",
    "        return deck.removeCard()\n",
    "    \n",
    "    def shuffleDeck(self, deck):\n",
    "        deck.shuffleDeck()\n",
    "\n"
   ]
  },
  {
   "cell_type": "code",
   "execution_count": 6,
   "metadata": {
    "collapsed": true
   },
   "outputs": [],
   "source": [
    "def dealerAction(dealer,deck):\n",
    "    global player\n",
    "    points = 0\n",
    "    if checkForBlackJack(dealer):\n",
    "        return\n",
    "    try:\n",
    "         while True:\n",
    "                if player.hand['busted']:\n",
    "                    dealer.win = True\n",
    "                    break\n",
    "                if dealer.hand['busted']:\n",
    "                    print 'The dealer had busted!'\n",
    "                    break\n",
    "                elif dealer.hand['containsAce']:\n",
    "                    if (dealer.hand['points']['ace']>=17) & (dealer.hand['points']['normal']>=17):    \n",
    "                        break\n",
    "                elif dealer.hand['points']['normal']>=17:\n",
    "                    break\n",
    "                else:\n",
    "                    dealer.addCard(dealer.dealCard(deck))\n",
    "                    if dealer.hand['containsAce']:\n",
    "                        print \"Dealer's points with Ace as 11: \"+ str(dealer.hand['points']['ace'])\n",
    "                    dealer.checkHand()\n",
    "                    print \"Dealer's points\"+ str(dealer.hand['points']['normal'])\n",
    "    except Exception as inst:\n",
    "        print str(Exception) "
   ]
  },
  {
   "cell_type": "code",
   "execution_count": 7,
   "metadata": {
    "collapsed": true
   },
   "outputs": [],
   "source": [
    "def playerAction(player, deck, dealer):\n",
    "    acceptInsurance = False\n",
    "    \n",
    "    if player.bet == 0:\n",
    "        player.placeBet()        \n",
    "    \n",
    "    #if checkForBlackJack(player):\n",
    "       # return\n",
    "    \n",
    "    print \"Dealer's first card: \"+ dealer.hand['cards'][0].suit+' '+ str(dealer.hand['cards'][0].number)\n",
    "    \n",
    "    if dealer.hand['cards'][0].number == 1:\n",
    "        print \"dealer's first card is Ace!\"\n",
    "        askForInsurance(player)\n",
    "        if checkForBlackJack(dealer):\n",
    "            return        \n",
    "    print 'Your current hand: '\n",
    "    player.checkHand()\n",
    "    while True:\n",
    "        if player.hand['busted']:\n",
    "            print \"Your hand had busted.\"\n",
    "            break\n",
    "        else:\n",
    "            choice = askForInput()\n",
    "            if choice.upper() == 'H':\n",
    "                card = dealer.dealCard(deck)\n",
    "                print 'dealed card: '+ str(card.number)+' '+ card.suit\n",
    "                player.addCard(card)\n",
    "                print 'Your current hand:'\n",
    "                player.checkHand()\n",
    "            else:\n",
    "                break                     "
   ]
  },
  {
   "cell_type": "code",
   "execution_count": 8,
   "metadata": {
    "collapsed": true
   },
   "outputs": [],
   "source": [
    "def askForInsurance(player):\n",
    "    global insuranceBet,placeInsurance\n",
    "    while True:\n",
    "        choice = raw_input(\"Enter 'Y' to place insurance or 'N' to pass\")\n",
    "        if choice.upper() == 'Y':\n",
    "            placeInsurance = True\n",
    "            break\n",
    "        elif choice.upper() =='N':\n",
    "            placeInsurance = False\n",
    "            break\n",
    "        else:\n",
    "            placeInsurace = False\n",
    "            print 'Please enter a valid input.'\n",
    "    if placeInsurance:\n",
    "        while True:\n",
    "            if player.bet < 1:\n",
    "                print \"Your bet is 1, can't place insurance\"\n",
    "                break\n",
    "            elif player.bank ==0:\n",
    "                print \"You don't have money to place an insurance\"\n",
    "                break\n",
    "            try:\n",
    "                insuranceBet = int(raw_input(\"Your bet: %d. Please place an insurance: \"%player.bet))\n",
    "            except:\n",
    "                print 'Please place a valid bet.'\n",
    "            else:\n",
    "                if insuranceBet > player.bank:\n",
    "                    print 'You have insufficient funds'\n",
    "                elif insuranceBet > (player.bet*0.5):\n",
    "                    print 'You cannot bet higher than 1/2 of your original bet.'\n",
    "                else:\n",
    "                    break\n",
    "    return placeInsurance"
   ]
  },
  {
   "cell_type": "code",
   "execution_count": 9,
   "metadata": {
    "collapsed": true
   },
   "outputs": [],
   "source": [
    "def askForInput():\n",
    "    while True:\n",
    "        choice = raw_input(\"Enter 'H' to Hit or 'S' to Stand\")\n",
    "        if choice.upper() == 'H' or choice.upper() == 'S':\n",
    "            break\n",
    "        else: print 'Please enter a valid input.'\n",
    "    return choice"
   ]
  },
  {
   "cell_type": "code",
   "execution_count": 10,
   "metadata": {
    "collapsed": true
   },
   "outputs": [],
   "source": [
    "def checkForBlackJack(player):\n",
    "    blackJack = False\n",
    "    if (len(player.hand['cards']) == 2) & (player.hand['points']['ace'] == 21):\n",
    "        blackJack = True\n",
    "    return blackJack"
   ]
  },
  {
   "cell_type": "code",
   "execution_count": 11,
   "metadata": {
    "collapsed": true
   },
   "outputs": [],
   "source": [
    "def declareWinner(player, dealer):\n",
    "    global placeInsurance, insuranceBet, deck\n",
    "    playerPoint = 0\n",
    "    dealerPoint = 0\n",
    "    \n",
    "    if checkForBlackJack(player) & checkForBlackJack(dealer):\n",
    "        print 'Draw Game!'\n",
    "        player.collectWins(player.bet)\n",
    "        \n",
    "    elif checkForBlackJack(player):\n",
    "        print 'Black Jack for ' + player.name+'!'\n",
    "        player.win = True\n",
    "        playerPoint = 21\n",
    "        player.collectWins(player.bet*2.5)\n",
    "        \n",
    "    elif checkForBlackJack(dealer):\n",
    "        print 'Black Jack for Dealer!'\n",
    "        dealer.win = False\n",
    "        dealerPoint = 21\n",
    "        if placeInsurance:\n",
    "            player.collectWins(insuranceBet*2+insuranceBet)\n",
    "            \n",
    "    else:\n",
    "        if player.hand['busted']:\n",
    "            dealer.win = True\n",
    "            player.win = False\n",
    "        else:\n",
    "            playerPoint = returnHigherPoint(player)\n",
    "            \n",
    "        if dealer.hand['busted']:\n",
    "            dealer.win = False\n",
    "            player.win = True\n",
    "            \n",
    "        else:\n",
    "            dealerPoint = returnHigherPoint(dealer)\n",
    "        \n",
    "        if playerPoint > dealerPoint:\n",
    "            player.win = True\n",
    "            \n",
    "        elif playerPoint < dealerPoint:\n",
    "            dealer.win = True\n",
    "    print \"Dealer's Hand:\"\n",
    "    dealer.checkHand()\n",
    "    print \"Dealer's Point: \" + str(dealerPoint)\n",
    "    print player.name+\"'s Hand:\"\n",
    "    player.checkHand()\n",
    "    print player.name+\"'s Point: \" + str(playerPoint)\n",
    "    \n",
    "    if player.win:\n",
    "        print player.name+' Wins!'+player.name+\"'s winnings: \"+ str(player.bet*2)\n",
    "        player.collectWins(player.bet*2)\n",
    "    elif dealer.win:\n",
    "        print 'Dealer Wins!'\n",
    "    elif playerPoint == dealerPoint:\n",
    "        print 'Draw Game!'\n",
    "        player.collectWins(player.bet)\n",
    "        \n",
    "       \n",
    "    deck.recordDiscardedCard(player)\n",
    "    deck.recordDiscardedCard(dealer)"
   ]
  },
  {
   "cell_type": "code",
   "execution_count": 12,
   "metadata": {
    "collapsed": true
   },
   "outputs": [],
   "source": [
    "def returnHigherPoint(player):\n",
    "    if player.hand['containsAce']:\n",
    "        if (player.hand['points']['ace']<21) & (player.hand['points']['ace'] > player.hand['points']['normal']):\n",
    "            return player.hand['points']['ace']\n",
    "        else:\n",
    "            return player.hand['points']['normal']\n",
    "    else:\n",
    "        return player.hand['points']['normal']"
   ]
  },
  {
   "cell_type": "code",
   "execution_count": 13,
   "metadata": {
    "collapsed": true
   },
   "outputs": [],
   "source": [
    "def showPlayerStats():\n",
    "    global player\n",
    "    print 'Your bank: '+ str(player.bank)"
   ]
  },
  {
   "cell_type": "code",
   "execution_count": 14,
   "metadata": {
    "collapsed": true
   },
   "outputs": [],
   "source": [
    "def newRound(player, dealer, deck):\n",
    "    deck.recordDiscardedCard(player)\n",
    "    deck.recordDiscardedCard(dealer)\n",
    "    deck.checkForReShuffling()\n",
    "    player.bet = 0\n",
    "    insuranceBet = 0\n",
    "    placeInsurance = False\n",
    "    player.win = False\n",
    "    dealer.win = False\n",
    "    if player.bank ==0:\n",
    "        print \"You've gone bankrupt, adding 100 to your bank!\"\n",
    "        player.bank+= 100"
   ]
  },
  {
   "cell_type": "code",
   "execution_count": 15,
   "metadata": {
    "collapsed": true
   },
   "outputs": [],
   "source": [
    "def askForPlayerName():\n",
    "    while True:\n",
    "        name = raw_input('Please enter your name: ')\n",
    "        if len(name.replace(' ',''))>0:\n",
    "            return name\n",
    "        else:\n",
    "            print 'Please enter a valid name'"
   ]
  },
  {
   "cell_type": "code",
   "execution_count": 16,
   "metadata": {
    "collapsed": true
   },
   "outputs": [],
   "source": [
    "def dealCard(dealer, player, deck):\n",
    "    player.addCard(dealer.dealCard(deck))    "
   ]
  },
  {
   "cell_type": "code",
   "execution_count": 17,
   "metadata": {
    "collapsed": true
   },
   "outputs": [],
   "source": [
    "def initGame():\n",
    "    global player, dealer, deck\n",
    "    print \"Welcome to Fk's Black Jack Game!\"\n",
    "    choice = 'O'\n",
    "    while True:\n",
    "        choice = raw_input(\"Enter 'Y' to play or 'N' to leave\")\n",
    "        if choice.upper() != 'Y' and choice.upper() != 'N':\n",
    "            print 'Please enter a valid input.'\n",
    "        else:\n",
    "            break\n",
    "    if choice.upper() == 'N':\n",
    "        print 'Good Bye!'\n",
    "        return False\n",
    "    else:\n",
    "        deck.initDeck()\n",
    "        dealer.shuffleDeck(deck)\n",
    "        player.setName(askForPlayerName())\n",
    "        #playGame()       \n",
    "        return True"
   ]
  },
  {
   "cell_type": "code",
   "execution_count": 18,
   "metadata": {
    "collapsed": true
   },
   "outputs": [],
   "source": [
    "def playGame():   \n",
    "    global player, dealer, deck\n",
    "    for x in range (1,3):\n",
    "        dealCard(dealer, player, deck)\n",
    "        dealCard(dealer, dealer, deck)\n",
    "    playerAction(player, deck, dealer)\n",
    "    dealerAction(dealer, deck)\n",
    "    declareWinner(player, dealer)\n",
    "    showPlayerStats()\n",
    "    if continueGame():\n",
    "        newRound(player, dealer, deck)\n",
    "        playGame()\n",
    "    else:\n",
    "        print 'Good Bye!'\n",
    "    "
   ]
  },
  {
   "cell_type": "code",
   "execution_count": 19,
   "metadata": {
    "collapsed": true
   },
   "outputs": [],
   "source": [
    "def continueGame():\n",
    "    choice = raw_input(\"Enter 'Y' if you wish to continue to play, or any key to quit: \")\n",
    "    if choice.upper() == 'Y':\n",
    "        return True\n",
    "    else:\n",
    "        return False"
   ]
  },
  {
   "cell_type": "code",
   "execution_count": 20,
   "metadata": {},
   "outputs": [],
   "source": [
    "gameInProgress = True\n",
    "restartGame=True\n",
    "bust = False\n",
    "action = {'stand': True, 'hit':False}\n",
    "quitGame=True\n",
    "insuranceBet = 0\n",
    "playerHand ={'cards': [], 'containsAce':False, 'points':{'normal':0,'ace':0},'busted':False}\n",
    "dealerHand ={'cards': [], 'containsAce':False, 'points':{'normal':0,'ace':0},'busted':False}\n",
    "placeInsurance = False\n",
    "dealer = Dealer(dealerHand)\n",
    "player = Player(playerHand)\n",
    "deck = Deck()"
   ]
  },
  {
   "cell_type": "code",
   "execution_count": 21,
   "metadata": {
    "collapsed": true
   },
   "outputs": [],
   "source": [
    "def game():\n",
    "    if initGame():\n",
    "        playGame()"
   ]
  },
  {
   "cell_type": "code",
   "execution_count": 22,
   "metadata": {},
   "outputs": [
    {
     "name": "stdout",
     "output_type": "stream",
     "text": [
      "Welcome to Fk's Black Jack Game!\n",
      "Enter 'Y' to play or 'N' to leavey\n",
      "Please enter your name: fk\n",
      "Your bank:100 How much would you like to bet?50\n",
      "Dealer's first card: Hearts 9\n",
      "Your current hand: \n",
      "4 Spades\n",
      "2 Diamonds\n",
      "Enter 'H' to Hit or 'S' to Standh\n",
      "dealed card: 1 Diamonds\n",
      "Your current hand:\n",
      "4 Spades\n",
      "2 Diamonds\n",
      "1 Diamonds\n",
      "Enter 'H' to Hit or 'S' to Stands\n",
      "9 Hearts\n",
      "4 Cloves\n",
      "2 Cloves\n",
      "Dealer's points15\n",
      "9 Hearts\n",
      "4 Cloves\n",
      "2 Cloves\n",
      "13 Cloves\n",
      "Dealer's points25\n",
      "The dealer had busted!\n",
      "Dealer's Hand:\n",
      "9 Hearts\n",
      "4 Cloves\n",
      "2 Cloves\n",
      "13 Cloves\n",
      "Dealer's Point: 0\n",
      "fk's Hand:\n",
      "4 Spades\n",
      "2 Diamonds\n",
      "1 Diamonds\n",
      "fk's Point: 17\n",
      "fk Wins!fk's winnings: 100\n",
      "Your bank: 150\n",
      "Enter 'Y' if you wish to continue to play, or any key to quit: y\n",
      "Your bank:150 How much would you like to bet?100\n",
      "Dealer's first card: Hearts 1\n",
      "dealer's first card is Ace!\n",
      "Enter 'Y' to place insurance or 'N' to passy\n",
      "Your bet: 100. Please place an insurance: 50\n",
      "Your current hand: \n",
      "3 Spades\n",
      "9 Spades\n",
      "Enter 'H' to Hit or 'S' to Standh\n",
      "dealed card: 4 Diamonds\n",
      "Your current hand:\n",
      "3 Spades\n",
      "9 Spades\n",
      "4 Diamonds\n",
      "Enter 'H' to Hit or 'S' to Stands\n"
     ]
    },
    {
     "ename": "KeyboardInterrupt",
     "evalue": "",
     "output_type": "error",
     "traceback": [
      "\u001b[1;31m---------------------------------------------------------------------------\u001b[0m",
      "\u001b[1;31mKeyboardInterrupt\u001b[0m                         Traceback (most recent call last)",
      "\u001b[1;32m<ipython-input-22-fb4c0e38c8cb>\u001b[0m in \u001b[0;36m<module>\u001b[1;34m()\u001b[0m\n\u001b[1;32m----> 1\u001b[1;33m \u001b[0mgame\u001b[0m\u001b[1;33m(\u001b[0m\u001b[1;33m)\u001b[0m\u001b[1;33m\u001b[0m\u001b[0m\n\u001b[0m",
      "\u001b[1;32m<ipython-input-21-340ccead5970>\u001b[0m in \u001b[0;36mgame\u001b[1;34m()\u001b[0m\n\u001b[0;32m      1\u001b[0m \u001b[1;32mdef\u001b[0m \u001b[0mgame\u001b[0m\u001b[1;33m(\u001b[0m\u001b[1;33m)\u001b[0m\u001b[1;33m:\u001b[0m\u001b[1;33m\u001b[0m\u001b[0m\n\u001b[0;32m      2\u001b[0m     \u001b[1;32mif\u001b[0m \u001b[0minitGame\u001b[0m\u001b[1;33m(\u001b[0m\u001b[1;33m)\u001b[0m\u001b[1;33m:\u001b[0m\u001b[1;33m\u001b[0m\u001b[0m\n\u001b[1;32m----> 3\u001b[1;33m         \u001b[0mplayGame\u001b[0m\u001b[1;33m(\u001b[0m\u001b[1;33m)\u001b[0m\u001b[1;33m\u001b[0m\u001b[0m\n\u001b[0m",
      "\u001b[1;32m<ipython-input-18-a26a1c451b41>\u001b[0m in \u001b[0;36mplayGame\u001b[1;34m()\u001b[0m\n\u001b[0;32m     10\u001b[0m     \u001b[1;32mif\u001b[0m \u001b[0mcontinueGame\u001b[0m\u001b[1;33m(\u001b[0m\u001b[1;33m)\u001b[0m\u001b[1;33m:\u001b[0m\u001b[1;33m\u001b[0m\u001b[0m\n\u001b[0;32m     11\u001b[0m         \u001b[0mnewRound\u001b[0m\u001b[1;33m(\u001b[0m\u001b[0mplayer\u001b[0m\u001b[1;33m,\u001b[0m \u001b[0mdealer\u001b[0m\u001b[1;33m,\u001b[0m \u001b[0mdeck\u001b[0m\u001b[1;33m)\u001b[0m\u001b[1;33m\u001b[0m\u001b[0m\n\u001b[1;32m---> 12\u001b[1;33m         \u001b[0mplayGame\u001b[0m\u001b[1;33m(\u001b[0m\u001b[1;33m)\u001b[0m\u001b[1;33m\u001b[0m\u001b[0m\n\u001b[0m\u001b[0;32m     13\u001b[0m     \u001b[1;32melse\u001b[0m\u001b[1;33m:\u001b[0m\u001b[1;33m\u001b[0m\u001b[0m\n\u001b[0;32m     14\u001b[0m         \u001b[1;32mprint\u001b[0m \u001b[1;34m'Good Bye!'\u001b[0m\u001b[1;33m\u001b[0m\u001b[0m\n",
      "\u001b[1;32m<ipython-input-18-a26a1c451b41>\u001b[0m in \u001b[0;36mplayGame\u001b[1;34m()\u001b[0m\n\u001b[0;32m      5\u001b[0m         \u001b[0mdealCard\u001b[0m\u001b[1;33m(\u001b[0m\u001b[0mdealer\u001b[0m\u001b[1;33m,\u001b[0m \u001b[0mdealer\u001b[0m\u001b[1;33m,\u001b[0m \u001b[0mdeck\u001b[0m\u001b[1;33m)\u001b[0m\u001b[1;33m\u001b[0m\u001b[0m\n\u001b[0;32m      6\u001b[0m     \u001b[0mplayerAction\u001b[0m\u001b[1;33m(\u001b[0m\u001b[0mplayer\u001b[0m\u001b[1;33m,\u001b[0m \u001b[0mdeck\u001b[0m\u001b[1;33m,\u001b[0m \u001b[0mdealer\u001b[0m\u001b[1;33m)\u001b[0m\u001b[1;33m\u001b[0m\u001b[0m\n\u001b[1;32m----> 7\u001b[1;33m     \u001b[0mdealerAction\u001b[0m\u001b[1;33m(\u001b[0m\u001b[0mdealer\u001b[0m\u001b[1;33m,\u001b[0m \u001b[0mdeck\u001b[0m\u001b[1;33m)\u001b[0m\u001b[1;33m\u001b[0m\u001b[0m\n\u001b[0m\u001b[0;32m      8\u001b[0m     \u001b[0mdeclareWinner\u001b[0m\u001b[1;33m(\u001b[0m\u001b[0mplayer\u001b[0m\u001b[1;33m,\u001b[0m \u001b[0mdealer\u001b[0m\u001b[1;33m)\u001b[0m\u001b[1;33m\u001b[0m\u001b[0m\n\u001b[0;32m      9\u001b[0m     \u001b[0mshowPlayerStats\u001b[0m\u001b[1;33m(\u001b[0m\u001b[1;33m)\u001b[0m\u001b[1;33m\u001b[0m\u001b[0m\n",
      "\u001b[1;32m<ipython-input-6-893b351be4f2>\u001b[0m in \u001b[0;36mdealerAction\u001b[1;34m(dealer, deck)\u001b[0m\n\u001b[0;32m     12\u001b[0m                     \u001b[1;32mprint\u001b[0m \u001b[1;34m'The dealer had busted!'\u001b[0m\u001b[1;33m\u001b[0m\u001b[0m\n\u001b[0;32m     13\u001b[0m                     \u001b[1;32mbreak\u001b[0m\u001b[1;33m\u001b[0m\u001b[0m\n\u001b[1;32m---> 14\u001b[1;33m                 \u001b[1;32melif\u001b[0m \u001b[0mdealer\u001b[0m\u001b[1;33m.\u001b[0m\u001b[0mhand\u001b[0m\u001b[1;33m[\u001b[0m\u001b[1;34m'containsAce'\u001b[0m\u001b[1;33m]\u001b[0m\u001b[1;33m:\u001b[0m\u001b[1;33m\u001b[0m\u001b[0m\n\u001b[0m\u001b[0;32m     15\u001b[0m                     \u001b[1;32mif\u001b[0m \u001b[1;33m(\u001b[0m\u001b[0mdealer\u001b[0m\u001b[1;33m.\u001b[0m\u001b[0mhand\u001b[0m\u001b[1;33m[\u001b[0m\u001b[1;34m'points'\u001b[0m\u001b[1;33m]\u001b[0m\u001b[1;33m[\u001b[0m\u001b[1;34m'ace'\u001b[0m\u001b[1;33m]\u001b[0m\u001b[1;33m>=\u001b[0m\u001b[1;36m17\u001b[0m\u001b[1;33m)\u001b[0m \u001b[1;33m&\u001b[0m \u001b[1;33m(\u001b[0m\u001b[0mdealer\u001b[0m\u001b[1;33m.\u001b[0m\u001b[0mhand\u001b[0m\u001b[1;33m[\u001b[0m\u001b[1;34m'points'\u001b[0m\u001b[1;33m]\u001b[0m\u001b[1;33m[\u001b[0m\u001b[1;34m'normal'\u001b[0m\u001b[1;33m]\u001b[0m\u001b[1;33m>=\u001b[0m\u001b[1;36m17\u001b[0m\u001b[1;33m)\u001b[0m\u001b[1;33m:\u001b[0m\u001b[1;33m\u001b[0m\u001b[0m\n\u001b[0;32m     16\u001b[0m                         \u001b[1;32mbreak\u001b[0m\u001b[1;33m\u001b[0m\u001b[0m\n",
      "\u001b[1;31mKeyboardInterrupt\u001b[0m: "
     ]
    }
   ],
   "source": [
    "game()"
   ]
  },
  {
   "cell_type": "code",
   "execution_count": null,
   "metadata": {
    "collapsed": true
   },
   "outputs": [],
   "source": [
    "aceCard = Card(1,'cloves',7)\n",
    "jackCard = Card(1,'cloves',1)"
   ]
  },
  {
   "cell_type": "code",
   "execution_count": null,
   "metadata": {},
   "outputs": [],
   "source": [
    "player.addCard(aceCard)\n",
    "\n",
    "player.addCard(jackCard)"
   ]
  },
  {
   "cell_type": "code",
   "execution_count": null,
   "metadata": {},
   "outputs": [],
   "source": [
    "player.checkHand()\n",
    "for card in  player.hand['cards']:\n",
    "    print card.suit+ ' '+ str(card.number)"
   ]
  },
  {
   "cell_type": "code",
   "execution_count": null,
   "metadata": {},
   "outputs": [],
   "source": [
    "player.hand['containsAce']"
   ]
  },
  {
   "cell_type": "code",
   "execution_count": null,
   "metadata": {},
   "outputs": [],
   "source": [
    "player.hand['points']['ace']"
   ]
  },
  {
   "cell_type": "code",
   "execution_count": null,
   "metadata": {},
   "outputs": [],
   "source": [
    "player.hand['points']['normal']"
   ]
  },
  {
   "cell_type": "code",
   "execution_count": null,
   "metadata": {},
   "outputs": [],
   "source": [
    "returnHigherPoint(player)"
   ]
  },
  {
   "cell_type": "code",
   "execution_count": null,
   "metadata": {
    "collapsed": true
   },
   "outputs": [],
   "source": [
    "def addPoints1(card, player):\n",
    "        if card.number > 10:\n",
    "            player.hand['points']['normal']+=10\n",
    "        else:\n",
    "            player.hand['points']['normal']+=card.number\n",
    "        if player.hand['containsAce']:\n",
    "            print player.hand['containsAce']\n",
    "            if card.number == 1:\n",
    "                print 'card number = 1'\n",
    "                print 'actual card number: '+ str(card.number)\n",
    "                player.hand['points']['ace']+= 11\n",
    "                print str(player.hand['points']['ace'])\n",
    "            elif card.number > 10:\n",
    "                print 'card number > 10'\n",
    "                print 'actual card number: '+ str(card.number)\n",
    "                player.hand['points']['ace']+= 10\n",
    "                print str(player.hand['points']['ace'])\n",
    "            else:\n",
    "                'actual card number: '+ str(card.number)\n",
    "                print 'card number between 1 and 10'                 \n",
    "                player.hand['points']['ace']+= card.number\n",
    "                print str(player.hand['points']['ace'])\n",
    "            if (player.hand['points']['ace']>21) & (player.hand['points']['normal']>21):\n",
    "                player.hand['busted'] = True\n",
    "        elif player.hand['points']['normal']> 21:\n",
    "            player.hand['busted'] = True"
   ]
  },
  {
   "cell_type": "code",
   "execution_count": null,
   "metadata": {
    "collapsed": true
   },
   "outputs": [],
   "source": [
    "player1 = Player({'cards': [], 'containsAce':False, 'points':{'normal':0,'ace':0},'busted':False})"
   ]
  },
  {
   "cell_type": "code",
   "execution_count": null,
   "metadata": {},
   "outputs": [],
   "source": [
    "addPoints1(aceCard, player1)"
   ]
  },
  {
   "cell_type": "code",
   "execution_count": null,
   "metadata": {
    "collapsed": true
   },
   "outputs": [],
   "source": [
    "player1.addCard(aceCard)"
   ]
  },
  {
   "cell_type": "code",
   "execution_count": null,
   "metadata": {},
   "outputs": [],
   "source": [
    "player1.hand['points']['ace']"
   ]
  },
  {
   "cell_type": "code",
   "execution_count": null,
   "metadata": {},
   "outputs": [],
   "source": [
    "player1.hand['points']['normal']"
   ]
  },
  {
   "cell_type": "code",
   "execution_count": null,
   "metadata": {
    "collapsed": true
   },
   "outputs": [],
   "source": []
  }
 ],
 "metadata": {
  "kernelspec": {
   "display_name": "Python 2",
   "language": "python",
   "name": "python2"
  },
  "language_info": {
   "codemirror_mode": {
    "name": "ipython",
    "version": 2
   },
   "file_extension": ".py",
   "mimetype": "text/x-python",
   "name": "python",
   "nbconvert_exporter": "python",
   "pygments_lexer": "ipython2",
   "version": "2.7.14"
  }
 },
 "nbformat": 4,
 "nbformat_minor": 2
}
