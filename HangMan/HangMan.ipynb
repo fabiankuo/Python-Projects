{
 "cells": [
  {
   "cell_type": "code",
   "execution_count": 1,
   "metadata": {
    "collapsed": true
   },
   "outputs": [],
   "source": [
    "#This is a hangman Game\n",
    "#a random word is read from the txt file: words.txt\n",
    "#the user gets 6 tries to guess the word or loses"
   ]
  },
  {
   "cell_type": "code",
   "execution_count": 2,
   "metadata": {
    "collapsed": true
   },
   "outputs": [],
   "source": [
    "import random\n",
    "import string"
   ]
  },
  {
   "cell_type": "code",
   "execution_count": 3,
   "metadata": {
    "collapsed": true
   },
   "outputs": [],
   "source": [
    "def GetSecretWord():\n",
    "    '''\n",
    "    opens a txt file with words, randomly chooses a word from the file\n",
    "    returns a string\n",
    "    '''\n",
    "    wordFile = open('words.txt','r')\n",
    "    line = wordFile.readline()\n",
    "    wordlist = line.split()\n",
    "    return random.choice(wordlist)"
   ]
  },
  {
   "cell_type": "code",
   "execution_count": 4,
   "metadata": {
    "collapsed": true
   },
   "outputs": [],
   "source": [
    "def WonGame(secretWord, guessedLetters):\n",
    "    '''\n",
    "    parameters: string secretWord, string guessedLetters\n",
    "    checks if the secretWord was guessed\n",
    "    if guessed then returns true\n",
    "    else returns false\n",
    "    '''\n",
    "    for chars in secretWord:\n",
    "        if chars not in guessedLetters:\n",
    "            return False\n",
    "    return True"
   ]
  },
  {
   "cell_type": "code",
   "execution_count": 5,
   "metadata": {
    "collapsed": true
   },
   "outputs": [],
   "source": [
    "def AvailableLetters(guessedLetters):\n",
    "    '''\n",
    "    parameters: list guessedLetters\n",
    "    creates a new list with available letters\n",
    "    returns a string of available letters\n",
    "    '''\n",
    "    completeAlphabet = string.ascii_lowercase\n",
    "    availableLetters = []\n",
    "    if len(guessedLetters) < 1:\n",
    "        completeAlphabet\n",
    "    for chars in completeAlphabet:\n",
    "        if chars not in guessedLetters:\n",
    "            availableLetters.append(chars)\n",
    "    return ''.join(availableLetters)"
   ]
  },
  {
   "cell_type": "code",
   "execution_count": 6,
   "metadata": {
    "collapsed": true
   },
   "outputs": [],
   "source": [
    "def InSecretWord(userGuess, secretWord):\n",
    "    '''\n",
    "    parameters: string userGuess, input from user, string secretWord the secret word that needs to be guessed\n",
    "    checks if the letter is in the secretWord\n",
    "    returns bool\n",
    "    '''\n",
    "    if userGuess in secretWord:\n",
    "        print('Good guess: ')\n",
    "        return True\n",
    "    else:\n",
    "        return False"
   ]
  },
  {
   "cell_type": "code",
   "execution_count": 7,
   "metadata": {
    "collapsed": true
   },
   "outputs": [],
   "source": [
    "def GetUserInput(guessedLetters):\n",
    "    '''\n",
    "    parameters: list guessedLetters, list of letters that had been guessed\n",
    "    asks for input from user\n",
    "    input must be a lowercased alphabet\n",
    "    input should not be already picked before\n",
    "    returns the user's input\n",
    "    '''\n",
    "    userGuess = None\n",
    "    while True:\n",
    "        try:\n",
    "            userGuess = str(raw_input('Please guess a letter: ')).lower()\n",
    "            if len(userGuess)>1:\n",
    "                print('Only one letter only.')\n",
    "                raise Exception\n",
    "            elif userGuess in guessedLetters:\n",
    "                print('Letter alrady guessed.')\n",
    "                raise Exception\n",
    "            elif userGuess not in string.ascii_lowercase:\n",
    "                raise Exception\n",
    "            else:\n",
    "                guessedLetters.append(userGuess)\n",
    "                break\n",
    "        except:\n",
    "            print('Please enter a valid input')\n",
    "    return userGuess"
   ]
  },
  {
   "cell_type": "code",
   "execution_count": 8,
   "metadata": {
    "collapsed": true
   },
   "outputs": [],
   "source": [
    "def ShowCurrentProgress(guessedLetters, secretWord):\n",
    "    progress = ['_ '] * len(secretWord)\n",
    "    for x in xrange(len(secretWord)):\n",
    "        if secretWord[x] in guessedLetters:\n",
    "            progress[x] = secretWord[x]\n",
    "    print(\"Current Guess Progress: {}\".format(''.join(progress)))"
   ]
  },
  {
   "cell_type": "code",
   "execution_count": 9,
   "metadata": {
    "collapsed": true
   },
   "outputs": [],
   "source": [
    "def Play():\n",
    "    lettersGuessed = []\n",
    "    secretWord = GetSecretWord()\n",
    "    chances = 8\n",
    "    availableLetters = AvailableLetters(lettersGuessed)\n",
    "    userGuess = None\n",
    "    won = False\n",
    "    print(\"Welcome to the Hangman Game\")\n",
    "    print(\"The length of the word is {}\".format(len(secretWord)))\n",
    "    while chances > 0:\n",
    "        print('Chances Left: {}'.format(chances))\n",
    "        print('Available letters: {}'.format(AvailableLetters(lettersGuessed)))\n",
    "        userGuess = GetUserInput(lettersGuessed)\n",
    "        if InSecretWord(userGuess,secretWord):\n",
    "            print(\"Good Guess!\")\n",
    "            ShowCurrentProgress(lettersGuessed, secretWord)\n",
    "            if WonGame(secretWord, lettersGuessed):\n",
    "                won = True\n",
    "                break\n",
    "        else:\n",
    "            print(\"{} is not in the word\".format(userGuess))\n",
    "            chances -= 1\n",
    "    if won:\n",
    "        print(\"You Won! the word is: {}\".format(secretWord))\n",
    "    else:\n",
    "        print(\"You Lost, the word is: {}\".format(secretWord))"
   ]
  },
  {
   "cell_type": "code",
   "execution_count": 10,
   "metadata": {},
   "outputs": [
    {
     "name": "stdout",
     "output_type": "stream",
     "text": [
      "Welcome to the Hangman Game\n",
      "The length of the word is 6\n",
      "Chances Left: 8\n",
      "Available letters: abcdefghijklmnopqrstuvwxyz\n",
      "Please guess a letter: a\n",
      "Good guess: \n",
      "Good Guess!\n",
      "Current Guess Progress: _ _ a_ _ _ \n",
      "Chances Left: 8\n",
      "Available letters: bcdefghijklmnopqrstuvwxyz\n",
      "Please guess a letter: o\n",
      "o is not in the word\n",
      "Chances Left: 7\n",
      "Available letters: bcdefghijklmnpqrstuvwxyz\n",
      "Please guess a letter: e\n",
      "e is not in the word\n",
      "Chances Left: 6\n",
      "Available letters: bcdfghijklmnpqrstuvwxyz\n",
      "Please guess a letter: i\n",
      "i is not in the word\n",
      "Chances Left: 5\n",
      "Available letters: bcdfghjklmnpqrstuvwxyz\n",
      "Please guess a letter: u\n",
      "u is not in the word\n",
      "Chances Left: 4\n",
      "Available letters: bcdfghjklmnpqrstvwxyz\n",
      "Please guess a letter: s\n",
      "Good guess: \n",
      "Good Guess!\n",
      "Current Guess Progress: _ _ a_ _ s\n",
      "Chances Left: 4\n",
      "Available letters: bcdfghjklmnpqrtvwxyz\n",
      "Please guess a letter: t\n",
      "t is not in the word\n",
      "Chances Left: 3\n",
      "Available letters: bcdfghjklmnpqrvwxyz\n",
      "Please guess a letter: r\n",
      "Good guess: \n",
      "Good Guess!\n",
      "Current Guess Progress: _ ra_ _ s\n",
      "Chances Left: 3\n",
      "Available letters: bcdfghjklmnpqvwxyz\n",
      "Please guess a letter: c\n",
      "c is not in the word\n",
      "Chances Left: 2\n",
      "Available letters: bdfghjklmnpqvwxyz\n",
      "Please guess a letter: b\n",
      "Good guess: \n",
      "Good Guess!\n",
      "Current Guess Progress: bra_ _ s\n",
      "Chances Left: 2\n",
      "Available letters: dfghjklmnpqvwxyz\n",
      "Please guess a letter: p\n",
      "p is not in the word\n",
      "Chances Left: 1\n",
      "Available letters: dfghjklmnqvwxyz\n",
      "Please guess a letter: m\n",
      "m is not in the word\n",
      "You Lost, the word is: brawns\n"
     ]
    }
   ],
   "source": [
    "Play()"
   ]
  },
  {
   "cell_type": "code",
   "execution_count": null,
   "metadata": {
    "collapsed": true
   },
   "outputs": [],
   "source": []
  }
 ],
 "metadata": {
  "kernelspec": {
   "display_name": "Python 2",
   "language": "python",
   "name": "python2"
  },
  "language_info": {
   "codemirror_mode": {
    "name": "ipython",
    "version": 2
   },
   "file_extension": ".py",
   "mimetype": "text/x-python",
   "name": "python",
   "nbconvert_exporter": "python",
   "pygments_lexer": "ipython2",
   "version": "2.7.14"
  }
 },
 "nbformat": 4,
 "nbformat_minor": 2
}
