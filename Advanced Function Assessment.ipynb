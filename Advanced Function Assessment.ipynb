{
 "cells": [
  {
   "cell_type": "code",
   "execution_count": 4,
   "metadata": {},
   "outputs": [
    {
     "name": "stdout",
     "output_type": "stream",
     "text": [
      "['H']\n",
      "['o']\n",
      "['w']\n",
      "['', '']\n",
      "['l']\n",
      "['o']\n",
      "['n']\n",
      "['g']\n",
      "['', '']\n",
      "['a']\n",
      "['r']\n",
      "['e']\n",
      "['', '']\n",
      "['t']\n",
      "['h']\n",
      "['e']\n",
      "['', '']\n",
      "['w']\n",
      "['o']\n",
      "['r']\n",
      "['d']\n",
      "['s']\n",
      "['', '']\n",
      "['i']\n",
      "['n']\n",
      "['', '']\n",
      "['t']\n",
      "['h']\n",
      "['i']\n",
      "['s']\n",
      "['', '']\n",
      "['p']\n",
      "['h']\n",
      "['r']\n",
      "['a']\n",
      "['s']\n",
      "['e']\n"
     ]
    },
    {
     "data": {
      "text/plain": [
       "[[1],\n",
       " [1],\n",
       " [1],\n",
       " [0, 0],\n",
       " [1],\n",
       " [1],\n",
       " [1],\n",
       " [1],\n",
       " [0, 0],\n",
       " [1],\n",
       " [1],\n",
       " [1],\n",
       " [0, 0],\n",
       " [1],\n",
       " [1],\n",
       " [1],\n",
       " [0, 0],\n",
       " [1],\n",
       " [1],\n",
       " [1],\n",
       " [1],\n",
       " [1],\n",
       " [0, 0],\n",
       " [1],\n",
       " [1],\n",
       " [0, 0],\n",
       " [1],\n",
       " [1],\n",
       " [1],\n",
       " [1],\n",
       " [0, 0],\n",
       " [1],\n",
       " [1],\n",
       " [1],\n",
       " [1],\n",
       " [1],\n",
       " [1]]"
      ]
     },
     "execution_count": 4,
     "metadata": {},
     "output_type": "execute_result"
    }
   ],
   "source": [
    "#Use map to create a function which finds the length of each word in the phrase (broken by spaces) \n",
    "#and return the values in a list.\n",
    "#The function will have an input of a string, and output a list of integers.\n",
    "def returnLen(phrase):\n",
    "    strList = phrase.split(' ')\n",
    "    print strList\n",
    "    lst = []\n",
    "    for string in strList:\n",
    "        lst.append(len(string))\n",
    "    return lst\n",
    "\n",
    "map(returnLen, 'How long are the words in this phrase')\n",
    "    "
   ]
  },
  {
   "cell_type": "code",
   "execution_count": null,
   "metadata": {
    "collapsed": true
   },
   "outputs": [],
   "source": []
  }
 ],
 "metadata": {
  "kernelspec": {
   "display_name": "Python 2",
   "language": "python",
   "name": "python2"
  },
  "language_info": {
   "codemirror_mode": {
    "name": "ipython",
    "version": 2
   },
   "file_extension": ".py",
   "mimetype": "text/x-python",
   "name": "python",
   "nbconvert_exporter": "python",
   "pygments_lexer": "ipython2",
   "version": "2.7.14"
  }
 },
 "nbformat": 4,
 "nbformat_minor": 2
}
