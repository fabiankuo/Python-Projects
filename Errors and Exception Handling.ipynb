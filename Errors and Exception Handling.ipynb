{
 "cells": [
  {
   "cell_type": "code",
   "execution_count": 1,
   "metadata": {},
   "outputs": [
    {
     "name": "stdout",
     "output_type": "stream",
     "text": [
      "There was a type error!\n",
      "finally executed\n"
     ]
    }
   ],
   "source": [
    "try:\n",
    "    2+'s'\n",
    "except TypeError:\n",
    "    print 'There was a type error!'\n",
    "finally:\n",
    "    print 'finally executed'"
   ]
  },
  {
   "cell_type": "code",
   "execution_count": 3,
   "metadata": {},
   "outputs": [
    {
     "ename": "TypeError",
     "evalue": "unsupported operand type(s) for +: 'int' and 'str'",
     "output_type": "error",
     "traceback": [
      "\u001b[1;31m---------------------------------------------------------------------------\u001b[0m",
      "\u001b[1;31mTypeError\u001b[0m                                 Traceback (most recent call last)",
      "\u001b[1;32m<ipython-input-3-f0fec53828a7>\u001b[0m in \u001b[0;36m<module>\u001b[1;34m()\u001b[0m\n\u001b[1;32m----> 1\u001b[1;33m \u001b[1;36m2\u001b[0m\u001b[1;33m+\u001b[0m\u001b[1;34m's'\u001b[0m\u001b[1;33m\u001b[0m\u001b[0m\n\u001b[0m",
      "\u001b[1;31mTypeError\u001b[0m: unsupported operand type(s) for +: 'int' and 'str'"
     ]
    }
   ],
   "source": [
    "2+'s'"
   ]
  },
  {
   "cell_type": "code",
   "execution_count": 5,
   "metadata": {},
   "outputs": [
    {
     "name": "stdout",
     "output_type": "stream",
     "text": [
      "Error in writing to the file!\n"
     ]
    }
   ],
   "source": [
    "try:\n",
    "    f = open('testfile2','r')\n",
    "    f.write('Test write this')\n",
    "except:\n",
    "    print 'Error in writing to the file!'\n",
    "else:\n",
    "    print 'File write was successful!'"
   ]
  },
  {
   "cell_type": "code",
   "execution_count": 10,
   "metadata": {
    "collapsed": true
   },
   "outputs": [],
   "source": [
    "def askint():\n",
    "    while True:\n",
    "        try:\n",
    "            val = int(raw_input('Please enter an integer: '))\n",
    "        except:\n",
    "            print \"Loooks like you didn't enter an integer!\"\n",
    "        else:\n",
    "            print'correct, that is an integer!'\n",
    "            break\n",
    "        finally:\n",
    "            print 'Finally block executed'"
   ]
  },
  {
   "cell_type": "code",
   "execution_count": 11,
   "metadata": {},
   "outputs": [
    {
     "name": "stdout",
     "output_type": "stream",
     "text": [
      "Please enter an integer: one\n",
      "Loooks like you didn't enter an integer!\n",
      "Finally block executed\n",
      "Please enter an integer: two\n",
      "Loooks like you didn't enter an integer!\n",
      "Finally block executed\n",
      "Please enter an integer: a\n",
      "Loooks like you didn't enter an integer!\n",
      "Finally block executed\n",
      "Please enter an integer: b\n",
      "Loooks like you didn't enter an integer!\n",
      "Finally block executed\n",
      "Please enter an integer: 1\n",
      "correct, that is an integer!\n",
      "Finally block executed\n"
     ]
    }
   ],
   "source": [
    "askint()"
   ]
  },
  {
   "cell_type": "code",
   "execution_count": null,
   "metadata": {
    "collapsed": true
   },
   "outputs": [],
   "source": []
  }
 ],
 "metadata": {
  "kernelspec": {
   "display_name": "Python 2",
   "language": "python",
   "name": "python2"
  },
  "language_info": {
   "codemirror_mode": {
    "name": "ipython",
    "version": 2
   },
   "file_extension": ".py",
   "mimetype": "text/x-python",
   "name": "python",
   "nbconvert_exporter": "python",
   "pygments_lexer": "ipython2",
   "version": "2.7.14"
  }
 },
 "nbformat": 4,
 "nbformat_minor": 2
}
